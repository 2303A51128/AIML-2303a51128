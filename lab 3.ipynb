{
  "nbformat": 4,
  "nbformat_minor": 0,
  "metadata": {
    "colab": {
      "provenance": [],
      "authorship_tag": "ABX9TyPJBFmQCPlu/ndQ3wxH2Csr",
      "include_colab_link": true
    },
    "kernelspec": {
      "name": "python3",
      "display_name": "Python 3"
    },
    "language_info": {
      "name": "python"
    }
  },
  "cells": [
    {
      "cell_type": "markdown",
      "metadata": {
        "id": "view-in-github",
        "colab_type": "text"
      },
      "source": [
        "<a href=\"https://colab.research.google.com/github/2303A51128/AIML-2303a51128/blob/main/lab%203.ipynb\" target=\"_parent\"><img src=\"https://colab.research.google.com/assets/colab-badge.svg\" alt=\"Open In Colab\"/></a>"
      ]
    },
    {
      "cell_type": "code",
      "execution_count": null,
      "metadata": {
        "id": "6R1WsO2qZDUR"
      },
      "outputs": [],
      "source": []
    },
    {
      "cell_type": "markdown",
      "source": [
        "LAB-02 A* algorithm\n"
      ],
      "metadata": {
        "id": "2BOppmu6ZFA9"
      }
    },
    {
      "cell_type": "code",
      "source": [
        "from copy import deepcopy\n",
        "import numpy as np\n",
        "import time\n",
        "\n",
        "def bestsolution(state):\n",
        "    bestsol = np.array ([], int).reshape(-1, 9)\n",
        "    count = len(state) - 1\n",
        "    while count != -1:\n",
        "        bestsol = np.insert(bestsol, 0, state[count] ['puzzle'], 0)\n",
        "        count = (state[count] ['parent'])\n",
        "    return bestsol.reshape(-1, 3, 3)\n",
        "\n",
        "# checks for the uniqueness of the iteration(it).\n",
        "def all(checkarray):\n",
        "    set=[]\n",
        "    for it in set:\n",
        "        for checkarray in it:\n",
        "            return 1\n",
        "        else:\n",
        "            return 0\n",
        "\n",
        "\n",
        "# number of misplaced tiles\n",
        "def misplaced_tiles(puzzle,goal):\n",
        "    mscost = np.sum(puzzle != goal) - 1\n",
        "    return mscost if mscost > 0 else 0\n",
        "\n",
        "def coordinates(puzzle):\n",
        "    pos = np.array(range(9))\n",
        "    for p, q in enumerate(puzzle):\n",
        "        pos[q] = p\n",
        "    return pos\n",
        "\n",
        "\n",
        "# start of 8 puzzle evaluvation, using Misplaced tiles heuristics\n",
        "def evaluvate_misplaced(puzzle, goal):\n",
        "    steps = np.array([('up', [0, 1, 2], -3),('down', [6, 7, 8], 3),\n",
        "('left', [0, 3, 6], -1),('right', [2, 5, 8], 1)],\n",
        "           dtype = [('move', str, 1),('position', list),('head',\n",
        "int)])\n",
        "    dtstate = [('puzzle', list),('parent', int),('gn', int),('hn',\n",
        "int)]\n",
        "    costg = coordinates(goal)\n",
        "\n",
        "   # initializing the parent, gn and hn, where hn is misplaced_tiles\n",
        "#function call\n",
        "    parent = -1\n",
        "    gn = 0\n",
        "    hn = misplaced_tiles(coordinates(puzzle), costg)\n",
        "    state = np.array([(puzzle, parent, gn, hn)], dtstate)\n",
        "\n",
        "   #priority queues with positions as keys and fn as values.\n",
        "     dtpriority = [('position', int),('fn', int)]\n",
        "\n",
        "     priority = np.array([(0, hn)], dtpriority)\n",
        "\n",
        "     while 1:\n",
        "         priority = np.sort(priority, kind='mergesort', order=['fn',\n",
        "  'position'])\n",
        "         position, fn = priority[0]\n",
        "         # sort priority queue using merge sort,the first element is picked\n",
        "   for exploring.\n",
        "           priority = np.delete(priority, 0, 0)\n",
        "           puzzle, parent, gn, hn = state[position]\n",
        "           puzzle = np.array(puzzle)\n",
        "\n",
        "           blank = int(np.where(puzzle == 0)[0])\n",
        "\n",
        "           gn = gn + 1\n",
        "           c = 1\n",
        "           start_time = time.time()\n",
        "           for s in steps:\n",
        "               c = c + 1\n",
        "               if blank not in s['position']:\n",
        "                  openstates = deepcopy(puzzle)\n",
        "                  openstates[blank], openstates[blank + s['head']] =\n",
        "    openstates[blank + s['head']], openstates[blank]\n"
      ],
      "metadata": {
        "colab": {
          "base_uri": "https://localhost:8080/",
          "height": 106
        },
        "id": "MSafzY0BayoP",
        "outputId": "2b9593a7-48c9-4b73-d9f0-fad30b3d9809"
      },
      "execution_count": null,
      "outputs": [
        {
          "output_type": "error",
          "ename": "IndentationError",
          "evalue": "unindent does not match any outer indentation level (<tokenize>, line 62)",
          "traceback": [
            "\u001b[0;36m  File \u001b[0;32m\"<tokenize>\"\u001b[0;36m, line \u001b[0;32m62\u001b[0m\n\u001b[0;31m    for exploring.\u001b[0m\n\u001b[0m    ^\u001b[0m\n\u001b[0;31mIndentationError\u001b[0m\u001b[0;31m:\u001b[0m unindent does not match any outer indentation level\n"
          ]
        }
      ]
    }
  ]
}