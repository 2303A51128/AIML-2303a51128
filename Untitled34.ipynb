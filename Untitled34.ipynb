{
  "nbformat": 4,
  "nbformat_minor": 0,
  "metadata": {
    "colab": {
      "provenance": [],
      "authorship_tag": "ABX9TyO+puxu49N4UnriwCrHpyuH",
      "include_colab_link": true
    },
    "kernelspec": {
      "name": "python3",
      "display_name": "Python 3"
    },
    "language_info": {
      "name": "python"
    }
  },
  "cells": [
    {
      "cell_type": "markdown",
      "metadata": {
        "id": "view-in-github",
        "colab_type": "text"
      },
      "source": [
        "<a href=\"https://colab.research.google.com/github/2303A51128/AIML-2303a51128/blob/main/Untitled34.ipynb\" target=\"_parent\"><img src=\"https://colab.research.google.com/assets/colab-badge.svg\" alt=\"Open In Colab\"/></a>"
      ]
    },
    {
      "cell_type": "code",
      "execution_count": 1,
      "metadata": {
        "colab": {
          "base_uri": "https://localhost:8080/"
        },
        "id": "W0JZf9bWvqLM",
        "outputId": "4fbccaa8-2bd0-409f-e523-ac7b4024c0fc"
      },
      "outputs": [
        {
          "output_type": "stream",
          "name": "stdout",
          "text": [
            "   age  salary  age_scaled  salary_scaled\n",
            "0   25   50000    0.000000       0.000000\n",
            "1   30   60000    0.333333       0.333333\n",
            "2   35   70000    0.666667       0.666667\n",
            "3   40   80000    1.000000       1.000000\n"
          ]
        }
      ],
      "source": [
        "import pandas as pd\n",
        "from sklearn.preprocessing import MinMaxScaler\n",
        "\n",
        "\n",
        "data = {'age': [25, 30, 35, 40], 'salary': [50000, 60000, 70000, 80000]}\n",
        "df = pd.DataFrame(data)\n",
        "\n",
        "\n",
        "scaler = MinMaxScaler()\n",
        "\n",
        "df[['age_scaled', 'salary_scaled']] = scaler.fit_transform(df[['age', 'salary']])\n",
        "\n",
        "\n",
        "print(df)"
      ]
    }
  ]
}